{
 "cells": [
  {
   "cell_type": "markdown",
   "metadata": {},
   "source": [
    "## Configuration"
   ]
  },
  {
   "cell_type": "code",
   "execution_count": null,
   "metadata": {},
   "outputs": [],
   "source": [
    "import azureml.core\n",
    "from azureml.core.workspace import Workspace, Datastore\n",
    "\n",
    "ws = Workspace.from_config('./config.json') ## better to set it manually from your Azure workspace\n",
    "\n",
    "print(ws.name, ws.resource_group, ws.location, ws.subscription_id, sep = '\\n')"
   ]
  },
  {
   "cell_type": "markdown",
   "metadata": {},
   "source": [
    "## MLflow Tracking"
   ]
  },
  {
   "cell_type": "code",
   "execution_count": null,
   "metadata": {},
   "outputs": [],
   "source": [
    "import mlflow\n",
    "import mlflow.azureml\n",
    "\n",
    "mlflow.set_tracking_uri(ws.get_mlflow_tracking_uri()) \n",
    "\n",
    "## anything in this workspace get automatically tracked by MLflow\n"
   ]
  },
  {
   "cell_type": "markdown",
   "metadata": {},
   "source": [
    "## Data Store"
   ]
  },
  {
   "cell_type": "code",
   "execution_count": null,
   "metadata": {},
   "outputs": [],
   "source": [
    "datastore = Datastore.get(ws, 'demostore') # set the name of your datastore on Azure"
   ]
  },
  {
   "cell_type": "markdown",
   "metadata": {},
   "source": [
    "## Computation Settings"
   ]
  },
  {
   "cell_type": "code",
   "execution_count": null,
   "metadata": {},
   "outputs": [],
   "source": [
    "from azureml.core.compute import ComputeTarget, AmlCompute\n",
    "\n",
    "compute_name= 'your_compute_name'\n",
    "\n",
    "vm_size='Standard_E4s_v3'\n",
    "\n",
    "compute_target= ws.compute_targets[compute_name]\n",
    "\n"
   ]
  },
  {
   "cell_type": "markdown",
   "metadata": {},
   "source": [
    "## Run Settings"
   ]
  },
  {
   "cell_type": "code",
   "execution_count": null,
   "metadata": {},
   "outputs": [],
   "source": [
    "from azureml.core.runconfig import RunConfiguration\n",
    "from azureml.core.conda_dependencies import CondaDependencies\n",
    "from azureml.core import Environment \n",
    "\n",
    "\n",
    "aml_run_config = RunConfiguration()\n",
    "\n",
    "aml_run_config.target= compute_target\n",
    "\n",
    "USE_CURATED_ENV = True\n",
    "\n",
    "if USE_CURATED_ENV :\n",
    "    \n",
    "    curated_environment = Environment.get(workspace=ws, name=\"AzureML-sklearn-0.24-ubuntu18.04-py37-cpu\")\n",
    "    aml_run_config.environment = curated_environment\n",
    "    \n",
    "else:\n",
    "    aml_run_config.environment.python.user_managed_dependencies = False\n",
    "    \n",
    "    # Add some packages relied on by data prep step\n",
    "    \n",
    "    aml_run_config.environment.python.conda_dependencies = CondaDependencies.create(\n",
    "        conda_packages=['pandas','scikit-learn'], \n",
    "        pip_packages=['azureml-sdk', 'azureml-dataset-runtime[fuse,pandas]'], \n",
    "        pin_sdk_version=False)\n",
    "    "
   ]
  },
  {
   "cell_type": "markdown",
   "metadata": {},
   "source": [
    "## Python Script Settings"
   ]
  },
  {
   "cell_type": "code",
   "execution_count": null,
   "metadata": {},
   "outputs": [],
   "source": [
    "from azureml.pipeline.steps import PythonScriptStep\n",
    "\n",
    "\n",
    "entry_point = \"python_script.py\"\n",
    "\n",
    "\n",
    "data_wranging_step = PythonScriptStep(\n",
    "    script_name= entry_point,\n",
    "    compute_target=compute_target,\n",
    "    arguments= ['--input-data', 'train-csv']\n",
    "    runconfig= aml_run_config,\n",
    "    allow_reuse=False\n",
    ")"
   ]
  },
  {
   "cell_type": "markdown",
   "metadata": {},
   "source": [
    "## Steps Settings"
   ]
  },
  {
   "cell_type": "code",
   "execution_count": null,
   "metadata": {},
   "outputs": [],
   "source": [
    "pipeline_steps =[data_wranging_step] # we can have several steps in the bracket"
   ]
  },
  {
   "cell_type": "markdown",
   "metadata": {},
   "source": [
    "## Define the Pipeline"
   ]
  },
  {
   "cell_type": "code",
   "execution_count": null,
   "metadata": {},
   "outputs": [],
   "source": [
    "from azureml.pipeline.core import Pipeline\n",
    "\n",
    "pipeline1 = Pipeline(workspace=ws, steps=[pipeline_steps])\n",
    "\n"
   ]
  },
  {
   "cell_type": "markdown",
   "metadata": {},
   "source": [
    "## Run the Pipeline "
   ]
  },
  {
   "cell_type": "code",
   "execution_count": null,
   "metadata": {},
   "outputs": [],
   "source": [
    "from azureml.core import Experiment\n",
    "\n",
    "experiment_name = \"pipeline-with-mlflow\"\n",
    "mlflow.set_experiment(experiment_name)\n",
    "\n",
    "# Submit the pipeline to be run\n",
    "pipeline_run1 = Experiment(ws, experiment_name).submit(pipeline1)\n",
    "\n",
    "pipeline_run1.wait_for_completion(show_output=True)\n",
    "\n"
   ]
  },
  {
   "cell_type": "code",
   "execution_count": null,
   "metadata": {},
   "outputs": [],
   "source": []
  }
 ],
 "metadata": {
  "kernelspec": {
   "display_name": "Python 3",
   "language": "python",
   "name": "python3"
  },
  "language_info": {
   "codemirror_mode": {
    "name": "ipython",
    "version": 3
   },
   "file_extension": ".py",
   "mimetype": "text/x-python",
   "name": "python",
   "nbconvert_exporter": "python",
   "pygments_lexer": "ipython3",
   "version": "3.8.5"
  }
 },
 "nbformat": 4,
 "nbformat_minor": 4
}
